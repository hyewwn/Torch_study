{
 "cells": [
  {
   "cell_type": "markdown",
   "metadata": {},
   "source": [
    "# ResNet 구현"
   ]
  },
  {
   "cell_type": "markdown",
   "metadata": {},
   "source": [
    "## 라이브러리 호출"
   ]
  },
  {
   "cell_type": "code",
   "execution_count": 2,
   "metadata": {},
   "outputs": [],
   "source": [
    "# 라이브러리 호출\n",
    "import torch\n",
    "import torch.nn as nn\n",
    "import torch.nn.functional as F\n",
    "import torch.optim as optim\n",
    "import torch.utils.data as data\n",
    "import torchvision\n",
    "import torchvision.transforms as transforms\n",
    "import torchvision.datasets as datasets\n",
    "import torchvision.models as models\n",
    "\n",
    "import matplotlib.pyplot as plt\n",
    "import numpy as np\n",
    "\n",
    "import copy\n",
    "from collections import namedtuple\n",
    "import os\n",
    "import random\n",
    "import time\n",
    "\n",
    "import cv2\n",
    "from torch.utils.data import Dataset, DataLoader\n",
    "from PIL import Image\n",
    "\n",
    "device = torch.device('cuda' if torch.cuda.is_available() else 'cpu')"
   ]
  },
  {
   "cell_type": "markdown",
   "metadata": {},
   "source": [
    "## 데이터 전처리"
   ]
  },
  {
   "cell_type": "code",
   "execution_count": 3,
   "metadata": {},
   "outputs": [],
   "source": [
    "# 이미지 데이터 전처리\n",
    "class ImageTransform():\n",
    "  def __init__(self, resize, mean, std):\n",
    "    self.data_transform = {\n",
    "      'train': transforms.Compose([\n",
    "        transforms.RandomResizedCrop(resize, scale=(0.5,1.0)),\n",
    "        transforms.RandomHorizontalFlip(),\n",
    "        transforms.ToTensor(),\n",
    "        transforms.Normalize(mean, std)\n",
    "      ]),\n",
    "      'val': transforms.Compose([\n",
    "        transforms.Resize(256),\n",
    "        transforms.CenterCrop(resize),\n",
    "        transforms.ToTensor(),\n",
    "        transforms.Normalize(mean, std)\n",
    "      ])\n",
    "    }\n",
    "\n",
    "  def __call__(self, img, phase):\n",
    "    return self.data_transform[phase](img)"
   ]
  },
  {
   "cell_type": "code",
   "execution_count": 4,
   "metadata": {},
   "outputs": [],
   "source": [
    "# 전처리 변수 값 정의\n",
    "size = 224\n",
    "mean = (0.485, 0.456, 0.406)\n",
    "std = (0.229, 0.224, 0.225)\n",
    "batch_size = 32"
   ]
  },
  {
   "cell_type": "code",
   "execution_count": 6,
   "metadata": {},
   "outputs": [],
   "source": [
    "# 데이터셋 불러오기\n",
    "cat_directory = r'data\\\\dogs-vs-cats\\\\Cat\\\\'\n",
    "dog_directory = r'data\\\\dogs-vs-cats\\\\Dog\\\\'\n",
    "\n",
    "cat_images_filepaths = sorted([os.path.join(cat_directory,f) for f in os.listdir(cat_directory)])\n",
    "dog_images_filepaths = sorted([os.path.join(dog_directory,f) for f in os.listdir(dog_directory)])\n",
    "\n",
    "images_filepaths = [*cat_images_filepaths, *dog_images_filepaths]\n",
    "correct_images_filepaths = [i for i in images_filepaths if cv2.imread(i) is not None]"
   ]
  },
  {
   "cell_type": "code",
   "execution_count": 7,
   "metadata": {},
   "outputs": [
    {
     "name": "stdout",
     "output_type": "stream",
     "text": [
      "400 92 10\n"
     ]
    }
   ],
   "source": [
    "# 데이터셋을 훈련, 검증, 테스트 용도로 분리\n",
    "random.seed(42)\n",
    "random.shuffle(correct_images_filepaths)\n",
    "train_images_filepaths = correct_images_filepaths[:400]\n",
    "val_images_filepaths = correct_images_filepaths[400:-10]\n",
    "test_images_filepaths = correct_images_filepaths[-10:]\n",
    "print(len(train_images_filepaths), len(val_images_filepaths), len(test_images_filepaths))"
   ]
  },
  {
   "cell_type": "code",
   "execution_count": 10,
   "metadata": {},
   "outputs": [],
   "source": [
    "# 데이터셋 전처리 및 정의\n",
    "class DogvsCatDataset(Dataset):\n",
    "  def __init__(self, file_list, transform=None, phase='train'):\n",
    "    self.file_list = file_list\n",
    "    self.transform = transform\n",
    "    self.phase = phase\n",
    "  \n",
    "  def __len__(self):\n",
    "    return len(self.file_list)\n",
    "  \n",
    "  def __getitem__(self, idx):\n",
    "    img_path = self.file_list[idx]\n",
    "    img = Image.open(img_path)\n",
    "    img_transformed = self.transform(img, self.phase)\n",
    "\n",
    "    label = img_path.split('\\\\')[-1].split('.')[0]\n",
    "    if label == 'dog':\n",
    "      label = 1\n",
    "    elif label == 'cat':\n",
    "      label = 0\n",
    "    return img_transformed, label"
   ]
  },
  {
   "cell_type": "code",
   "execution_count": 11,
   "metadata": {},
   "outputs": [
    {
     "name": "stdout",
     "output_type": "stream",
     "text": [
      "torch.Size([3, 224, 224])\n",
      "0\n"
     ]
    }
   ],
   "source": [
    "train_dataset = DogvsCatDataset(train_images_filepaths, transform=ImageTransform(size, mean, std), phase='train')\n",
    "val_dataset = DogvsCatDataset(val_images_filepaths, transform=ImageTransform(size, mean, std), phase='val')\n",
    "\n",
    "index = 0\n",
    "print(train_dataset.__getitem__(index)[0].size())\n",
    "print(train_dataset.__getitem__(index)[1])"
   ]
  },
  {
   "cell_type": "code",
   "execution_count": 12,
   "metadata": {},
   "outputs": [
    {
     "name": "stdout",
     "output_type": "stream",
     "text": [
      "torch.Size([32, 3, 224, 224])\n",
      "tensor([1, 1, 0, 0, 0, 0, 0, 0, 0, 0, 1, 0, 0, 1, 1, 1, 1, 0, 0, 1, 1, 0, 0, 1,\n",
      "        1, 0, 0, 1, 1, 0, 1, 1])\n"
     ]
    }
   ],
   "source": [
    "# 배치 단위로 데이터 불러오기\n",
    "train_iterator = DataLoader(train_dataset, batch_size=batch_size, shuffle=True)\n",
    "valid_iterator = DataLoader(val_dataset, batch_size=batch_size, shuffle=True)\n",
    "dataloader_dict = {'train': train_iterator, 'val': valid_iterator}\n",
    "\n",
    "batch_iterator = iter(train_iterator)\n",
    "inputs, label = next(batch_iterator)\n",
    "print(inputs.size())\n",
    "print(label)"
   ]
  },
  {
   "cell_type": "markdown",
   "metadata": {},
   "source": [
    "## 모델 구현"
   ]
  },
  {
   "cell_type": "code",
   "execution_count": 13,
   "metadata": {},
   "outputs": [],
   "source": [
    "class BasicBlock(nn.Module):\n",
    "  expansion = 1\n",
    "\n",
    "  def __init__(self, in_channels, out_channels, stride=1, downsample=False):\n",
    "    super().__init__()\n",
    "    self.conv1 = nn.Conv2d(in_channels, out_channels, kernel_size=3, stride=stride, padding=1, bias=False)\n",
    "    self.bn1 = nn.BatchNorm2d(out_channels)\n",
    "    self.conv2 = nn.Conv2d(out_channels, out_channels, kernel_size=3, stride=1, padding=1, bias=False)\n",
    "    self.bn2 = nn.BatchNorm2d(out_channels)\n",
    "    self.relu = nn.ReLU(inplace=True)\n",
    "\n",
    "    if downsample:\n",
    "      conv = nn.Conv2d(in_channels, out_channels, kernel_size=1, stride=stride, bias=False)\n",
    "      bn = nn.BatchNorm2d(out_channels)\n",
    "      downsample = nn.Sequential(conv, bn)\n",
    "    else:\n",
    "      downsample = None\n",
    "    self.downsample = downsample\n",
    "\n",
    "  def forward(self, x):\n",
    "    i = x\n",
    "    x = self.conv1(x)\n",
    "    x = self.bn1(x)\n",
    "    x = self.relu(x)\n",
    "    x = self.conv2(x)\n",
    "    x = self.bn2(x)\n",
    "\n",
    "    if self.downsample is not None:\n",
    "      i = self.downsample(i)\n",
    "\n",
    "    x += i\n",
    "    x = self.relu(x)\n",
    "\n",
    "    return x"
   ]
  },
  {
   "cell_type": "code",
   "execution_count": 14,
   "metadata": {},
   "outputs": [],
   "source": [
    "class Bottleneck(nn.Module):\n",
    "  expansion = 4\n",
    "\n",
    "  def __init__(self, in_channels, out_channels, stride=1, downsample=False):\n",
    "    super().__init__()\n",
    "    self.conv1 = nn.Conv2d(in_channels, out_channels, kernel_size=1, stride=1, bias=False)\n",
    "    self.bn1 = nn.BatchNorm2d(out_channels)\n",
    "    self.conv2 = nn.Conv2d(out_channels, out_channels, kernel_size=3, stride=stride, padding=1, bias=False)\n",
    "    self.bn2 = nn.BatchNorm2d(out_channels)\n",
    "    self.conv3 = nn.Conv2d(out_channels, self.expansion*out_channels, kernel_size=1, stride=stride, bias=False)\n",
    "    self.bn3 = nn.BatchNorm2d(self.expansion*out_channels)\n",
    "    self.relu = nn.ReLU(inplace=True)\n",
    "\n",
    "    if downsample:\n",
    "      conv = nn.Conv2d(in_channels, self.expansion*out_channels, kernel_size=1, stride=stride, bias=False)\n",
    "      bn = nn.BatchNorm2d(self.expansion*out_channels)\n",
    "      downsample = nn.Sequential(conv, bn)\n",
    "    else:\n",
    "      downsample = None\n",
    "    self.downsample = downsample\n",
    "\n",
    "  def forward(self, x):\n",
    "    i = x\n",
    "    x = self.conv1(x)\n",
    "    x = self.bn1(x)\n",
    "    x = self.relu(x)\n",
    "    x = self.conv2(x)\n",
    "    x = self.bn2(x)\n",
    "    x = self.relu(x)\n",
    "    x = self.conv3(x)\n",
    "    x = self.bn3(x)\n",
    "\n",
    "    if self.downsample is not None:\n",
    "      i = self.downsample(i)\n",
    "\n",
    "    x += i\n",
    "    x = self.relu(x)\n",
    "    return x"
   ]
  },
  {
   "cell_type": "code",
   "execution_count": 15,
   "metadata": {},
   "outputs": [],
   "source": [
    "class ResNet(nn.Module):\n",
    "  def __init__(self, config, output_dim, zero_init_residual=False):\n",
    "    super().__init__()\n",
    "\n",
    "    block, n_blocks, channels = config\n",
    "    self.in_channels = channels[0]\n",
    "    assert len(n_blocks) == len(channels) == 4\n",
    "    self.conv1 = nn.Conv2d(3, self.in_channels, kernel_size=7, stride=2, padding=3, bias=False)\n",
    "    self.bn1 = nn.BatchNorm2d(self.in_channels)\n",
    "    self.relu = nn.ReLU(inplace=True)\n",
    "    self.maxpool = nn.MaxPool2d(kernel_size=3, stride=2, padding=1)\n",
    "\n",
    "    self.layer1 = self.get_resnet_layer(block, n_blocks[0], channels[0])\n",
    "    self.layer2 = self.get_resnet_layer(block, n_blocks[1], channels[1], stride=2)\n",
    "    self.layer3 = self.get_resnet_layer(block, n_blocks[2], channels[2], stride=2)\n",
    "    self.layer4 = self.get_resnet_layer(block, n_blocks[3], channels[3], stride=2)\n",
    "\n",
    "    self.avgpool = nn.AdaptiveAvgPool2d((1,1))\n",
    "    self.fc = nn.Linear(self.in_channels, output_dim)\n",
    "\n",
    "    if zero_init_residual:\n",
    "      for m in self.modules():\n",
    "        if isinstance(m, Bottleneck):\n",
    "          nn.init.constant_(m.bn3.weight, 0)\n",
    "        elif isinstance(m, BasicBlock):\n",
    "          nn.init.constant_(m.bn2.weight, 0)\n",
    "    \n",
    "  def get_resnet_layer(self, block, n_blocks, channels, stride=1):\n",
    "    layers = []\n",
    "    if self.in_channels != block.expansion*channels:\n",
    "      downsample = True\n",
    "    else:\n",
    "      downsample = False\n",
    "    \n",
    "    layers.append(block(self.in_channels, channels, stride, downsample))\n",
    "    for i in range(1, n_blocks):\n",
    "      layers.append(block(block.expansion*channels, channels))\n",
    "\n",
    "    self.in_channels = block.expansion*channels, channels\n",
    "    return nn.Sequential(*layers)\n",
    "  \n",
    "  def forward(self, x):\n",
    "    x = self.conv1(x)\n",
    "    x = self.bn1(x)\n",
    "    x = self.relu(x)\n",
    "    x = self.maxpool(x)\n",
    "    x = self.layer1(x)\n",
    "    x = self.layer2(x)\n",
    "    x = self.layer3(x)\n",
    "    x = self.layer4(x)\n",
    "    x = self.avgpool(x)\n",
    "    h = x.view(x.shape[0], -1)\n",
    "    x = self.fc(h)\n",
    "    return x,h"
   ]
  },
  {
   "cell_type": "code",
   "execution_count": null,
   "metadata": {},
   "outputs": [],
   "source": []
  }
 ],
 "metadata": {
  "kernelspec": {
   "display_name": "torch",
   "language": "python",
   "name": "python3"
  },
  "language_info": {
   "codemirror_mode": {
    "name": "ipython",
    "version": 3
   },
   "file_extension": ".py",
   "mimetype": "text/x-python",
   "name": "python",
   "nbconvert_exporter": "python",
   "pygments_lexer": "ipython3",
   "version": "3.9.13"
  }
 },
 "nbformat": 4,
 "nbformat_minor": 2
}
